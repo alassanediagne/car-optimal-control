{
 "cells": [
  {
   "cell_type": "code",
   "execution_count": 1,
   "id": "2b40ca80",
   "metadata": {},
   "outputs": [],
   "source": [
    "import casadi as ca\n",
    "import numpy as np\n",
    "from car_model import CarModel\n",
    "from Milestone1 import *"
   ]
  },
  {
   "cell_type": "code",
   "execution_count": 2,
   "id": "4fb21a46",
   "metadata": {},
   "outputs": [],
   "source": [
    "final_time = 15\n",
    "car = CarModel()\n",
    "tf, states, controls, dynamics = car.get_system()"
   ]
  },
  {
   "cell_type": "code",
   "execution_count": 3,
   "id": "0af013b5",
   "metadata": {},
   "outputs": [],
   "source": [
    "x0 = np.array(\n",
    "    [\n",
    "        -30,  # initial x\n",
    "        1,  # initial y\n",
    "        10.0,  # initial speed\n",
    "        0.0,  # beta\n",
    "        0.0,  # initial psi\n",
    "        0.0,  # initial wz\n",
    "        0.0,  # initial delta\n",
    "    ]\n",
    ")"
   ]
  },
  {
   "cell_type": "code",
   "execution_count": 4,
   "id": "20efe711",
   "metadata": {},
   "outputs": [],
   "source": [
    "w_delta = controls[0]\n",
    "w_delta_sq = ca.dot(w_delta, w_delta)\n",
    "quad = tf * w_delta_sq\n",
    "integrator = ca.integrator('integrator', 'rk', {\n",
    "    'x': states,\n",
    "    'p': ca.vertcat(tf, controls),\n",
    "    'ode': dynamics,\n",
    "    'quad': quad\n",
    "})\n",
    "qf = integrator(x0 = x0, p=ca.vertcat(tf, controls))['qf']\n",
    "objective = tf + qf\n",
    "rhs = {'x': states, 'p': ca.vertcat(tf, controls), 'ode': dynamics}"
   ]
  },
  {
   "cell_type": "code",
   "execution_count": 5,
   "id": "f64418de",
   "metadata": {},
   "outputs": [],
   "source": [
    "ms = ms_ocp(rhs, nx=7, N=20, T=1, nu=5)"
   ]
  },
  {
   "cell_type": "code",
   "execution_count": 6,
   "id": "9511c4b6",
   "metadata": {},
   "outputs": [
    {
     "data": {
      "text/plain": [
       "(DM([-0.5, 0, 0, 1]), DM([0.5, 15000, 1, 1]))"
      ]
     },
     "execution_count": 6,
     "metadata": {},
     "output_type": "execute_result"
    }
   ],
   "source": [
    "car.get_controls_bounds(1)"
   ]
  },
  {
   "cell_type": "code",
   "execution_count": 7,
   "id": "ac5b08f6",
   "metadata": {},
   "outputs": [],
   "source": [
    "B = 2\n",
    "h1, h2, h3, h4 = 1.1*B + 0.25, 3.5, 1.2*B+3.75, 1.3*B + 0.25\n",
    "setup = add_constraints(\n",
    "    ms_data      = ms,\n",
    "    #x_bounds     = car.get_state_bounds(h1, h2, h3, h4),\n",
    "    u_bounds     = (np.concatenate(([0],car.get_controls_bounds(1)[0].full().squeeze())),\n",
    "                    np.concatenate(([100],car.get_controls_bounds(1)[1].full().squeeze()))),\n",
    "    x0_val       = x0,        # fixed initial state\n",
    ")"
   ]
  },
  {
   "cell_type": "code",
   "execution_count": 8,
   "id": "8b04d88b",
   "metadata": {},
   "outputs": [
    {
     "name": "stdout",
     "output_type": "stream",
     "text": [
      "\n",
      "******************************************************************************\n",
      "This program contains Ipopt, a library for large-scale nonlinear optimization.\n",
      " Ipopt is released as open source code under the Eclipse Public License (EPL).\n",
      "         For more information visit https://github.com/coin-or/Ipopt\n",
      "******************************************************************************\n",
      "\n",
      "This is Ipopt version 3.14.11, running with linear solver MUMPS 5.4.1.\n",
      "\n",
      "Number of nonzeros in equality constraint Jacobian...:     1230\n",
      "Number of nonzeros in inequality constraint Jacobian.:        0\n",
      "Number of nonzeros in Lagrangian Hessian.............:      865\n",
      "\n",
      "Error evaluating Jacobian of equality constraints at user provided starting point.\n",
      "  No scaling factors for equality constraints computed!\n",
      "\n",
      "Number of Iterations....: 0\n",
      "\n",
      "Number of objective function evaluations             = 0\n",
      "Number of objective gradient evaluations             = 0\n",
      "Number of equality constraint evaluations            = 0\n",
      "Number of inequality constraint evaluations          = 0\n",
      "Number of equality constraint Jacobian evaluations   = 1\n",
      "Number of inequality constraint Jacobian evaluations = 0\n",
      "Number of Lagrangian Hessian evaluations             = 0\n",
      "Total seconds in IPOPT                               = 0.020\n",
      "\n",
      "EXIT: Invalid number in NLP function or derivative detected.\n",
      "      solver  :   t_proc      (avg)   t_wall      (avg)    n_eval\n",
      "  nlp_grad_f  |  23.00us ( 23.00us)  19.45us ( 19.45us)         1\n",
      "   nlp_jac_g  |  13.44ms (  6.72ms)  17.68ms (  8.84ms)         2\n",
      "       total  |  17.86ms ( 17.86ms)  22.07ms ( 22.07ms)         1\n"
     ]
    },
    {
     "name": "stderr",
     "output_type": "stream",
     "text": [
      "CasADi - 2025-06-16 13:12:31 WARNING(\"F:daeF failed: NaN detected for output ode, at (row 2, col 0).\") [.../casadi/core/oracle_function.cpp:393]\n",
      "The right-hand side routine failed at the first call.\n",
      "Function F (0x7fcdbe8d6e00)\n",
      "Input 0 (x0): [0, 0, 0, 0, 0, 0, 0]\n",
      "Input 1 (z0): 0x1\n",
      "Input 2 (p): [0, 0, 0, 0, 1]\n",
      "Input 3 (u): 0x1\n",
      "Input 4 (adj_xf): 0x0\n",
      "Input 5 (adj_zf): 0x0\n",
      "Input 6 (adj_qf): 0x0\n",
      "Function nlp_jac_g (0x7fcdbfa3fe00)\n",
      "Input 0 (x): [-30, 1, 10, 0, 0, 0, 0, 0, 0, 0, 0, 0, 0, 0, 0, 0, 0, 0, 0, 0, 0, 0, 0, 0, 0, 0, 0, 0, 0, 0, 0, 0, 0, 0, 0, 0, 0, 0, 0, 0, 0, 0, 0, 0, 0, 0, 0, 0, 0, 0, 0, 0, 0, 0, 0, 0, 0, 0, 0, 0, 0, 0, 0, 0, 0, 0, 0, 0, 0, 0, 0, 0, 0, 0, 0, 0, 0, 0, 0, 0, 0, 0, 0, 0, 0, 0, 0, 0, 0, 0, 0, 0, 0, 0, 0, 0, 0, 0, 0, 0, 0, 0, 0, 0, 0, 0, 0, 0, 0, 0, 0, 0, 0, 0, 0, 0, 0, 0, 0, 0, 0, 0, 0, 0, 0, 0, 0, 0, 0, 0, 0, 0, 0, 0, 0, 0, 0, 0, 0, 0, 0, 0, 0, 0, 0, 0, 0, 0, 0, 0, 0, 1, 0, 0, 0, 0, 1, 0, 0, 0, 0, 1, 0, 0, 0, 0, 1, 0, 0, 0, 0, 1, 0, 0, 0, 0, 1, 0, 0, 0, 0, 1, 0, 0, 0, 0, 1, 0, 0, 0, 0, 1, 0, 0, 0, 0, 1, 0, 0, 0, 0, 1, 0, 0, 0, 0, 1, 0, 0, 0, 0, 1, 0, 0, 0, 0, 1, 0, 0, 0, 0, 1, 0, 0, 0, 0, 1, 0, 0, 0, 0, 1, 0, 0, 0, 0, 1, 0, 0, 0, 0, 1, 0, 0, 0, 0, 1]\n",
      "Input 1 (p): NULL\n",
      "CasADi - 2025-06-16 13:12:31 WARNING(\"IpoptUserClass::eval_jac_g failed:.../casadi/core/oracle_function.cpp:352: Error in solver:nlp_jac_g:Error in Function::operator() for 'nlp_jac_g' [MXFunction] at .../casadi/core/function.cpp:1513:\n",
      "Error in Function::operator() for 'F' [CvodesInterface] at .../casadi/core/function.cpp:1513:\n",
      ".../casadi/interfaces/sundials/cvodes_interface.cpp:392: CVode returned \"CV_FIRST_RHSFUNC_ERR\". Consult CVODES documentation.\") [.../casadi/interfaces/ipopt/ipopt_nlp.cpp:159]\n",
      "CasADi - 2025-06-16 13:12:31 WARNING(\"F:daeF failed: NaN detected for output ode, at (row 2, col 0).\") [.../casadi/core/oracle_function.cpp:393]\n",
      "The right-hand side routine failed at the first call.\n",
      "Function F (0x7fcdbe8d6e00)\n",
      "Input 0 (x0): [0, 0, 0, 0, 0, 0, 0]\n",
      "Input 1 (z0): 0x1\n",
      "Input 2 (p): [0.00999999, 0, 0.00999999, 0.00999999, 1]\n",
      "Input 3 (u): 0x1\n",
      "Input 4 (adj_xf): 0x0\n",
      "Input 5 (adj_zf): 0x0\n",
      "Input 6 (adj_qf): 0x0\n",
      "Function nlp_jac_g (0x7fcdbfa3fe00)\n",
      "Input 0 (x): [-30, 1, 10, 0, 0, 0, 0, 0, 0, 0, 0, 0, 0, 0, 0, 0, 0, 0, 0, 0, 0, 0, 0, 0, 0, 0, 0, 0, 0, 0, 0, 0, 0, 0, 0, 0, 0, 0, 0, 0, 0, 0, 0, 0, 0, 0, 0, 0, 0, 0, 0, 0, 0, 0, 0, 0, 0, 0, 0, 0, 0, 0, 0, 0, 0, 0, 0, 0, 0, 0, 0, 0, 0, 0, 0, 0, 0, 0, 0, 0, 0, 0, 0, 0, 0, 0, 0, 0, 0, 0, 0, 0, 0, 0, 0, 0, 0, 0, 0, 0, 0, 0, 0, 0, 0, 0, 0, 0, 0, 0, 0, 0, 0, 0, 0, 0, 0, 0, 0, 0, 0, 0, 0, 0, 0, 0, 0, 0, 0, 0, 0, 0, 0, 0, 0, 0, 0, 0, 0, 0, 0, 0, 0, 0, 0, 0, 0, 0.00999999, 0, 0.00999999, 0.00999999, 1, 0.00999999, 0, 0.00999999, 0.00999999, 1, 0.00999999, 0, 0.00999999, 0.00999999, 1, 0.00999999, 0, 0.00999999, 0.00999999, 1, 0.00999999, 0, 0.00999999, 0.00999999, 1, 0.00999999, 0, 0.00999999, 0.00999999, 1, 0.00999999, 0, 0.00999999, 0.00999999, 1, 0.00999999, 0, 0.00999999, 0.00999999, 1, 0.00999999, 0, 0.00999999, 0.00999999, 1, 0.00999999, 0, 0.00999999, 0.00999999, 1, 0.00999999, 0, 0.00999999, 0.00999999, 1, 0.00999999, 0, 0.00999999, 0.00999999, 1, 0.00999999, 0, 0.00999999, 0.00999999, 1, 0.00999999, 0, 0.00999999, 0.00999999, 1, 0.00999999, 0, 0.00999999, 0.00999999, 1, 0.00999999, 0, 0.00999999, 0.00999999, 1, 0.00999999, 0, 0.00999999, 0.00999999, 1, 0.00999999, 0, 0.00999999, 0.00999999, 1, 0.00999999, 0, 0.00999999, 0.00999999, 1, 0.00999999, 0, 0.00999999, 0.00999999, 1]\n",
      "Input 1 (p): NULL\n",
      "CasADi - 2025-06-16 13:12:31 WARNING(\"IpoptUserClass::eval_jac_g failed:.../casadi/core/oracle_function.cpp:352: Error in solver:nlp_jac_g:Error in Function::operator() for 'nlp_jac_g' [MXFunction] at .../casadi/core/function.cpp:1513:\n",
      "Error in Function::operator() for 'F' [CvodesInterface] at .../casadi/core/function.cpp:1513:\n",
      ".../casadi/interfaces/sundials/cvodes_interface.cpp:392: CVode returned \"CV_FIRST_RHSFUNC_ERR\". Consult CVODES documentation.\") [.../casadi/interfaces/ipopt/ipopt_nlp.cpp:159]\n"
     ]
    }
   ],
   "source": [
    "solver = ca.nlpsol('solver', 'ipopt', setup['prob'])\n",
    "sol    = solver(x0=setup['w0'],\n",
    "                lbx=setup['lbx'], ubx=setup['ubx'],\n",
    "                lbg=setup['lbg'], ubg=setup['ubg'])\n",
    "\n",
    "w_opt  = sol['x'].full().flatten()"
   ]
  }
 ],
 "metadata": {
  "kernelspec": {
   "display_name": "venv_node",
   "language": "python",
   "name": "python3"
  },
  "language_info": {
   "codemirror_mode": {
    "name": "ipython",
    "version": 3
   },
   "file_extension": ".py",
   "mimetype": "text/x-python",
   "name": "python",
   "nbconvert_exporter": "python",
   "pygments_lexer": "ipython3",
   "version": "3.11.4"
  }
 },
 "nbformat": 4,
 "nbformat_minor": 5
}
